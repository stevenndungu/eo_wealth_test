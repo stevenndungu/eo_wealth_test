{
 "cells": [
  {
   "cell_type": "markdown",
   "metadata": {},
   "source": [
    "# Export satellite images\n",
    "\n",
    "***Note August 15th 2023**: due to constraints imposed by Google Earth Engine on data exports, this script has become excessively slow to run in its current form (estimated >300 h). The notebook below was what we ran to produce the results in our paper, but for the sake of usability we are currently developing a faster, equivalent setup for exporting and loading images. This script will be included alongside the original one as soon as it is ready.*"
   ]
  },
  {
   "cell_type": "markdown",
   "metadata": {},
   "source": [
    "## Table of Contents\n",
    "- [Pre-requisites](#pre-requisites)\n",
    "- [Instructions](#instructions)\n",
    "- [Imports and initialization](#imports-and-initialization)\n",
    "- [Prepare the survey data](#prepare-the-survey-data)\n",
    "- [Download the images](#download-the-images)"
   ]
  },
  {
   "cell_type": "markdown",
   "metadata": {},
   "source": [
    "## Pre-requisites\n",
    "Register an account on [Google Earth Engine (GEE)](https://earthengine.google.com/). You will need to provide a Gmail account. Once you have registered, you will need to [sign up for the Google Earth Engine API](https://signup.earthengine.google.com/#!/). This can take a few days to be approved. Once you have been approved, you will be able to use the GEE API."
   ]
  },
  {
   "cell_type": "markdown",
   "metadata": {},
   "source": [
    "## Instructions\n",
    "This notebook exports the Landsat and Nightlight images used as input data for the various models in the project from Google Earth Engine (GEE) to Google Cloud Storage (GCS). The exported images take up about 230 GB of disk space. After the images have been exported to GCS they will have to be downloaded into the data directory as specified in [config.ini](../config.ini)."
   ]
  },
  {
   "cell_type": "markdown",
   "metadata": {
    "pycharm": {
     "name": "#%% md\n"
    }
   },
   "source": [
    "## Imports and initialization\n",
    "\n",
    "Import the necessary libraries and config values."
   ]
  },
  {
   "cell_type": "code",
   "execution_count": 1,
   "metadata": {},
   "outputs": [],
   "source": [
    "import ee\n",
    "import pandas as pd\n",
    "import os"
   ]
  },
  {
   "cell_type": "code",
   "execution_count": 2,
   "metadata": {},
   "outputs": [],
   "source": [
    "import configparser"
   ]
  },
  {
   "cell_type": "code",
   "execution_count": 3,
   "metadata": {
    "pycharm": {
     "name": "#%%\n"
    }
   },
   "outputs": [
    {
     "data": {
      "text/plain": [
       "[]"
      ]
     },
     "execution_count": 3,
     "metadata": {},
     "output_type": "execute_result"
    }
   ],
   "source": [
    "import ee\n",
    "import pandas as pd\n",
    "import os\n",
    "#from gee_utils import export_images, wait_on_tasks\n",
    "import configparser\n",
    "\n",
    "# Read config file\n",
    "config = configparser.ConfigParser()\n",
    "config.read('config.ini')"
   ]
  },
  {
   "cell_type": "code",
   "execution_count": 6,
   "metadata": {},
   "outputs": [],
   "source": [
    "#ee.Authenticate()"
   ]
  },
  {
   "cell_type": "markdown",
   "metadata": {
    "pycharm": {
     "name": "#%% md\n"
    }
   },
   "source": [
    "Before using the Earth Engine API, you must authenticate your credentials. Once you have run the following cell, you will be prompted to click on a link and copy a code into the text box. This will authenticate your credentials and allow you to use the Earth Engine API. You only need to do this once, unless prompted to do so again. Make sure that you log in using a Google account which has access to the GCS bucket defined in config.ini."
   ]
  },
  {
   "cell_type": "code",
   "execution_count": 7,
   "metadata": {
    "pycharm": {
     "name": "#%%\n"
    }
   },
   "outputs": [],
   "source": [
    "#ee.Initialize(project='ee-stevenndungu')"
   ]
  },
  {
   "cell_type": "markdown",
   "metadata": {},
   "source": [
    "Initilaize the Earth Engine API with the high volume end-point. See [here](https://developers.google.com/earth-engine/cloud/highvolume) for more information."
   ]
  },
  {
   "cell_type": "code",
   "execution_count": 8,
   "metadata": {
    "pycharm": {
     "name": "#%%\n"
    }
   },
   "outputs": [],
   "source": [
    "#ee.Initialize(opt_url='https://earthengine-highvolume.googleapis.com')"
   ]
  },
  {
   "cell_type": "markdown",
   "metadata": {
    "pycharm": {
     "name": "#%% md\n"
    }
   },
   "source": [
    "## Prepare the survey data\n",
    "\n",
    "Read the csv file with survey points"
   ]
  },
  {
   "cell_type": "code",
   "execution_count": 4,
   "metadata": {},
   "outputs": [
    {
     "data": {
      "text/html": [
       "<div>\n",
       "<style scoped>\n",
       "    .dataframe tbody tr th:only-of-type {\n",
       "        vertical-align: middle;\n",
       "    }\n",
       "\n",
       "    .dataframe tbody tr th {\n",
       "        vertical-align: top;\n",
       "    }\n",
       "\n",
       "    .dataframe thead th {\n",
       "        text-align: right;\n",
       "    }\n",
       "</style>\n",
       "<table border=\"1\" class=\"dataframe\">\n",
       "  <thead>\n",
       "    <tr style=\"text-align: right;\">\n",
       "      <th></th>\n",
       "      <th>country</th>\n",
       "      <th>survey_start_year</th>\n",
       "      <th>year</th>\n",
       "      <th>lat</th>\n",
       "      <th>lon</th>\n",
       "      <th>GID_1</th>\n",
       "      <th>GID_2</th>\n",
       "      <th>households</th>\n",
       "      <th>rural</th>\n",
       "      <th>iwi</th>\n",
       "    </tr>\n",
       "  </thead>\n",
       "  <tbody>\n",
       "    <tr>\n",
       "      <th>0</th>\n",
       "      <td>angola</td>\n",
       "      <td>2006</td>\n",
       "      <td>2006</td>\n",
       "      <td>-12.169283</td>\n",
       "      <td>13.859255</td>\n",
       "      <td>AGO.2</td>\n",
       "      <td>AGO.2.9</td>\n",
       "      <td>20</td>\n",
       "      <td>0</td>\n",
       "      <td>68.096300</td>\n",
       "    </tr>\n",
       "    <tr>\n",
       "      <th>1</th>\n",
       "      <td>angola</td>\n",
       "      <td>2006</td>\n",
       "      <td>2006</td>\n",
       "      <td>-12.361700</td>\n",
       "      <td>14.778201</td>\n",
       "      <td>AGO.2</td>\n",
       "      <td>AGO.2.2</td>\n",
       "      <td>19</td>\n",
       "      <td>1</td>\n",
       "      <td>10.609053</td>\n",
       "    </tr>\n",
       "    <tr>\n",
       "      <th>2</th>\n",
       "      <td>angola</td>\n",
       "      <td>2006</td>\n",
       "      <td>2006</td>\n",
       "      <td>-10.827451</td>\n",
       "      <td>14.342114</td>\n",
       "      <td>AGO.7</td>\n",
       "      <td>AGO.7.1</td>\n",
       "      <td>25</td>\n",
       "      <td>1</td>\n",
       "      <td>29.973928</td>\n",
       "    </tr>\n",
       "    <tr>\n",
       "      <th>3</th>\n",
       "      <td>angola</td>\n",
       "      <td>2006</td>\n",
       "      <td>2006</td>\n",
       "      <td>-9.991311</td>\n",
       "      <td>14.898295</td>\n",
       "      <td>AGO.7</td>\n",
       "      <td>AGO.7.5</td>\n",
       "      <td>1</td>\n",
       "      <td>1</td>\n",
       "      <td>7.704135</td>\n",
       "    </tr>\n",
       "    <tr>\n",
       "      <th>4</th>\n",
       "      <td>angola</td>\n",
       "      <td>2006</td>\n",
       "      <td>2006</td>\n",
       "      <td>-11.518893</td>\n",
       "      <td>14.750437</td>\n",
       "      <td>AGO.7</td>\n",
       "      <td>AGO.7.10</td>\n",
       "      <td>24</td>\n",
       "      <td>1</td>\n",
       "      <td>13.371826</td>\n",
       "    </tr>\n",
       "    <tr>\n",
       "      <th>5</th>\n",
       "      <td>angola</td>\n",
       "      <td>2006</td>\n",
       "      <td>2006</td>\n",
       "      <td>-11.346350</td>\n",
       "      <td>15.073653</td>\n",
       "      <td>AGO.7</td>\n",
       "      <td>AGO.7.12</td>\n",
       "      <td>24</td>\n",
       "      <td>1</td>\n",
       "      <td>10.653362</td>\n",
       "    </tr>\n",
       "    <tr>\n",
       "      <th>6</th>\n",
       "      <td>angola</td>\n",
       "      <td>2006</td>\n",
       "      <td>2006</td>\n",
       "      <td>-12.167753</td>\n",
       "      <td>13.845458</td>\n",
       "      <td>AGO.2</td>\n",
       "      <td>AGO.2.9</td>\n",
       "      <td>24</td>\n",
       "      <td>0</td>\n",
       "      <td>62.009042</td>\n",
       "    </tr>\n",
       "    <tr>\n",
       "      <th>7</th>\n",
       "      <td>angola</td>\n",
       "      <td>2006</td>\n",
       "      <td>2006</td>\n",
       "      <td>-12.747312</td>\n",
       "      <td>13.607121</td>\n",
       "      <td>AGO.2</td>\n",
       "      <td>AGO.2.3</td>\n",
       "      <td>22</td>\n",
       "      <td>0</td>\n",
       "      <td>66.059021</td>\n",
       "    </tr>\n",
       "    <tr>\n",
       "      <th>8</th>\n",
       "      <td>angola</td>\n",
       "      <td>2006</td>\n",
       "      <td>2006</td>\n",
       "      <td>-11.502919</td>\n",
       "      <td>14.060841</td>\n",
       "      <td>AGO.7</td>\n",
       "      <td>AGO.7.11</td>\n",
       "      <td>25</td>\n",
       "      <td>0</td>\n",
       "      <td>51.727994</td>\n",
       "    </tr>\n",
       "    <tr>\n",
       "      <th>9</th>\n",
       "      <td>angola</td>\n",
       "      <td>2006</td>\n",
       "      <td>2006</td>\n",
       "      <td>-13.130185</td>\n",
       "      <td>13.109428</td>\n",
       "      <td>AGO.2</td>\n",
       "      <td>AGO.2.1</td>\n",
       "      <td>24</td>\n",
       "      <td>1</td>\n",
       "      <td>20.937783</td>\n",
       "    </tr>\n",
       "    <tr>\n",
       "      <th>10</th>\n",
       "      <td>angola</td>\n",
       "      <td>2006</td>\n",
       "      <td>2006</td>\n",
       "      <td>-12.427660</td>\n",
       "      <td>13.573896</td>\n",
       "      <td>AGO.2</td>\n",
       "      <td>AGO.2.9</td>\n",
       "      <td>22</td>\n",
       "      <td>1</td>\n",
       "      <td>27.370378</td>\n",
       "    </tr>\n",
       "    <tr>\n",
       "      <th>11</th>\n",
       "      <td>angola</td>\n",
       "      <td>2006</td>\n",
       "      <td>2006</td>\n",
       "      <td>-13.435833</td>\n",
       "      <td>14.287285</td>\n",
       "      <td>AGO.2</td>\n",
       "      <td>AGO.2.7</td>\n",
       "      <td>25</td>\n",
       "      <td>1</td>\n",
       "      <td>6.029492</td>\n",
       "    </tr>\n",
       "    <tr>\n",
       "      <th>12</th>\n",
       "      <td>angola</td>\n",
       "      <td>2006</td>\n",
       "      <td>2006</td>\n",
       "      <td>-10.548548</td>\n",
       "      <td>21.990448</td>\n",
       "      <td>AGO.13</td>\n",
       "      <td>AGO.13.3</td>\n",
       "      <td>24</td>\n",
       "      <td>1</td>\n",
       "      <td>6.490980</td>\n",
       "    </tr>\n",
       "    <tr>\n",
       "      <th>13</th>\n",
       "      <td>angola</td>\n",
       "      <td>2006</td>\n",
       "      <td>2006</td>\n",
       "      <td>-9.910750</td>\n",
       "      <td>21.236638</td>\n",
       "      <td>AGO.13</td>\n",
       "      <td>AGO.13.3</td>\n",
       "      <td>25</td>\n",
       "      <td>1</td>\n",
       "      <td>5.383237</td>\n",
       "    </tr>\n",
       "    <tr>\n",
       "      <th>14</th>\n",
       "      <td>angola</td>\n",
       "      <td>2006</td>\n",
       "      <td>2006</td>\n",
       "      <td>-11.240238</td>\n",
       "      <td>19.741251</td>\n",
       "      <td>AGO.13</td>\n",
       "      <td>AGO.13.2</td>\n",
       "      <td>25</td>\n",
       "      <td>1</td>\n",
       "      <td>5.869722</td>\n",
       "    </tr>\n",
       "    <tr>\n",
       "      <th>15</th>\n",
       "      <td>angola</td>\n",
       "      <td>2006</td>\n",
       "      <td>2006</td>\n",
       "      <td>-7.889178</td>\n",
       "      <td>21.492730</td>\n",
       "      <td>AGO.12</td>\n",
       "      <td>AGO.12.1</td>\n",
       "      <td>25</td>\n",
       "      <td>1</td>\n",
       "      <td>5.515749</td>\n",
       "    </tr>\n",
       "    <tr>\n",
       "      <th>16</th>\n",
       "      <td>angola</td>\n",
       "      <td>2006</td>\n",
       "      <td>2006</td>\n",
       "      <td>-8.691676</td>\n",
       "      <td>19.508102</td>\n",
       "      <td>AGO.12</td>\n",
       "      <td>AGO.12.6</td>\n",
       "      <td>25</td>\n",
       "      <td>1</td>\n",
       "      <td>4.267763</td>\n",
       "    </tr>\n",
       "    <tr>\n",
       "      <th>17</th>\n",
       "      <td>angola</td>\n",
       "      <td>2006</td>\n",
       "      <td>2006</td>\n",
       "      <td>-9.199099</td>\n",
       "      <td>19.302937</td>\n",
       "      <td>AGO.12</td>\n",
       "      <td>AGO.12.7</td>\n",
       "      <td>25</td>\n",
       "      <td>1</td>\n",
       "      <td>5.057468</td>\n",
       "    </tr>\n",
       "    <tr>\n",
       "      <th>18</th>\n",
       "      <td>angola</td>\n",
       "      <td>2006</td>\n",
       "      <td>2006</td>\n",
       "      <td>-9.461203</td>\n",
       "      <td>17.994960</td>\n",
       "      <td>AGO.12</td>\n",
       "      <td>AGO.12.9</td>\n",
       "      <td>25</td>\n",
       "      <td>1</td>\n",
       "      <td>7.249341</td>\n",
       "    </tr>\n",
       "    <tr>\n",
       "      <th>19</th>\n",
       "      <td>angola</td>\n",
       "      <td>2006</td>\n",
       "      <td>2006</td>\n",
       "      <td>-14.728668</td>\n",
       "      <td>13.828509</td>\n",
       "      <td>AGO.10</td>\n",
       "      <td>AGO.10.10</td>\n",
       "      <td>19</td>\n",
       "      <td>0</td>\n",
       "      <td>23.407791</td>\n",
       "    </tr>\n",
       "  </tbody>\n",
       "</table>\n",
       "</div>"
      ],
      "text/plain": [
       "   country  survey_start_year  year        lat        lon   GID_1      GID_2  \\\n",
       "0   angola               2006  2006 -12.169283  13.859255   AGO.2    AGO.2.9   \n",
       "1   angola               2006  2006 -12.361700  14.778201   AGO.2    AGO.2.2   \n",
       "2   angola               2006  2006 -10.827451  14.342114   AGO.7    AGO.7.1   \n",
       "3   angola               2006  2006  -9.991311  14.898295   AGO.7    AGO.7.5   \n",
       "4   angola               2006  2006 -11.518893  14.750437   AGO.7   AGO.7.10   \n",
       "5   angola               2006  2006 -11.346350  15.073653   AGO.7   AGO.7.12   \n",
       "6   angola               2006  2006 -12.167753  13.845458   AGO.2    AGO.2.9   \n",
       "7   angola               2006  2006 -12.747312  13.607121   AGO.2    AGO.2.3   \n",
       "8   angola               2006  2006 -11.502919  14.060841   AGO.7   AGO.7.11   \n",
       "9   angola               2006  2006 -13.130185  13.109428   AGO.2    AGO.2.1   \n",
       "10  angola               2006  2006 -12.427660  13.573896   AGO.2    AGO.2.9   \n",
       "11  angola               2006  2006 -13.435833  14.287285   AGO.2    AGO.2.7   \n",
       "12  angola               2006  2006 -10.548548  21.990448  AGO.13   AGO.13.3   \n",
       "13  angola               2006  2006  -9.910750  21.236638  AGO.13   AGO.13.3   \n",
       "14  angola               2006  2006 -11.240238  19.741251  AGO.13   AGO.13.2   \n",
       "15  angola               2006  2006  -7.889178  21.492730  AGO.12   AGO.12.1   \n",
       "16  angola               2006  2006  -8.691676  19.508102  AGO.12   AGO.12.6   \n",
       "17  angola               2006  2006  -9.199099  19.302937  AGO.12   AGO.12.7   \n",
       "18  angola               2006  2006  -9.461203  17.994960  AGO.12   AGO.12.9   \n",
       "19  angola               2006  2006 -14.728668  13.828509  AGO.10  AGO.10.10   \n",
       "\n",
       "    households  rural        iwi  \n",
       "0           20      0  68.096300  \n",
       "1           19      1  10.609053  \n",
       "2           25      1  29.973928  \n",
       "3            1      1   7.704135  \n",
       "4           24      1  13.371826  \n",
       "5           24      1  10.653362  \n",
       "6           24      0  62.009042  \n",
       "7           22      0  66.059021  \n",
       "8           25      0  51.727994  \n",
       "9           24      1  20.937783  \n",
       "10          22      1  27.370378  \n",
       "11          25      1   6.029492  \n",
       "12          24      1   6.490980  \n",
       "13          25      1   5.383237  \n",
       "14          25      1   5.869722  \n",
       "15          25      1   5.515749  \n",
       "16          25      1   4.267763  \n",
       "17          25      1   5.057468  \n",
       "18          25      1   7.249341  \n",
       "19          19      0  23.407791  "
      ]
     },
     "execution_count": 4,
     "metadata": {},
     "output_type": "execute_result"
    }
   ],
   "source": [
    "#data_dir = config['PATHS']['DATA_DIR']\n",
    "dhs_cluster_file_path = r'G:\\My Drive\\temporal-eo-wealth\\data\\dhs_clusters.csv'#os.path.join(data_dir, 'dhs_clusters.csv')\n",
    "#G:\\My Drive\\temporal-eo-wealth\\data\\dhs_clusters.csv\n",
    "df = pd.read_csv(dhs_cluster_file_path)\n",
    "df.head(20)"
   ]
  },
  {
   "cell_type": "code",
   "execution_count": 5,
   "metadata": {},
   "outputs": [
    {
     "data": {
      "text/plain": [
       "36"
      ]
     },
     "execution_count": 5,
     "metadata": {},
     "output_type": "execute_result"
    }
   ],
   "source": [
    "len(df.country.unique())"
   ]
  },
  {
   "cell_type": "code",
   "execution_count": 6,
   "metadata": {},
   "outputs": [
    {
     "data": {
      "text/plain": [
       "array(['angola', 'benin', 'burkina_faso', 'burundi', 'cameroon',\n",
       "       'central_african_republic', 'chad', 'comoros',\n",
       "       'democratic_republic_of_congo', 'egypt', 'eswatini', 'ethiopia',\n",
       "       'gabon', 'ghana', 'guinea', 'ivory_coast', 'kenya', 'lesotho',\n",
       "       'liberia', 'madagascar', 'malawi', 'mali', 'morocco', 'mozambique',\n",
       "       'namibia', 'niger', 'nigeria', 'rwanda', 'senegal', 'sierra_leone',\n",
       "       'south_africa', 'tanzania', 'togo', 'uganda', 'zambia', 'zimbabwe'],\n",
       "      dtype=object)"
      ]
     },
     "execution_count": 6,
     "metadata": {},
     "output_type": "execute_result"
    }
   ],
   "source": [
    "df.country.unique()"
   ]
  },
  {
   "cell_type": "code",
   "execution_count": 11,
   "metadata": {},
   "outputs": [
    {
     "data": {
      "text/plain": [
       "array([1991, 1992, 1993, 1994, 1995, 1996, 1997, 1998, 1999, 2000, 2001,\n",
       "       2003, 2004, 2005, 2006, 2007, 2008, 2009, 2010, 2011, 2012, 2013,\n",
       "       2014, 2015, 2016, 2017, 2018, 2019], dtype=int64)"
      ]
     },
     "execution_count": 11,
     "metadata": {},
     "output_type": "execute_result"
    }
   ],
   "source": [
    "import numpy as np\n",
    "np.sort(df.year.unique())\n",
    "# Filter the DataFrame to include only the years 2000 to 2020"
   ]
  },
  {
   "cell_type": "markdown",
   "metadata": {},
   "source": [
    "Get a list of all the country-year combinations included in the dataset"
   ]
  },
  {
   "cell_type": "code",
   "execution_count": 12,
   "metadata": {},
   "outputs": [],
   "source": [
    "surveys = list(df.groupby(['country', 'year']).groups.keys())"
   ]
  },
  {
   "cell_type": "code",
   "execution_count": 13,
   "metadata": {},
   "outputs": [
    {
     "data": {
      "text/plain": [
       "[('angola', 2006),\n",
       " ('angola', 2007),\n",
       " ('angola', 2010),\n",
       " ('angola', 2011),\n",
       " ('angola', 2015)]"
      ]
     },
     "execution_count": 13,
     "metadata": {},
     "output_type": "execute_result"
    }
   ],
   "source": [
    "surveys[0:5]"
   ]
  },
  {
   "cell_type": "code",
   "execution_count": 14,
   "metadata": {},
   "outputs": [
    {
     "data": {
      "text/html": [
       "<div>\n",
       "<style scoped>\n",
       "    .dataframe tbody tr th:only-of-type {\n",
       "        vertical-align: middle;\n",
       "    }\n",
       "\n",
       "    .dataframe tbody tr th {\n",
       "        vertical-align: top;\n",
       "    }\n",
       "\n",
       "    .dataframe thead th {\n",
       "        text-align: right;\n",
       "    }\n",
       "</style>\n",
       "<table border=\"1\" class=\"dataframe\">\n",
       "  <thead>\n",
       "    <tr style=\"text-align: right;\">\n",
       "      <th></th>\n",
       "      <th>country</th>\n",
       "      <th>survey_start_year</th>\n",
       "      <th>year</th>\n",
       "      <th>lat</th>\n",
       "      <th>lon</th>\n",
       "      <th>GID_1</th>\n",
       "      <th>GID_2</th>\n",
       "      <th>households</th>\n",
       "      <th>rural</th>\n",
       "      <th>iwi</th>\n",
       "    </tr>\n",
       "  </thead>\n",
       "  <tbody>\n",
       "    <tr>\n",
       "      <th>479</th>\n",
       "      <td>angola</td>\n",
       "      <td>2015</td>\n",
       "      <td>2015</td>\n",
       "      <td>-13.268225</td>\n",
       "      <td>16.286991</td>\n",
       "      <td>AGO.9</td>\n",
       "      <td>AGO.9.9</td>\n",
       "      <td>22</td>\n",
       "      <td>1</td>\n",
       "      <td>7.122878</td>\n",
       "    </tr>\n",
       "    <tr>\n",
       "      <th>632</th>\n",
       "      <td>angola</td>\n",
       "      <td>2015</td>\n",
       "      <td>2015</td>\n",
       "      <td>-7.926358</td>\n",
       "      <td>15.041177</td>\n",
       "      <td>AGO.17</td>\n",
       "      <td>AGO.17.13</td>\n",
       "      <td>8</td>\n",
       "      <td>0</td>\n",
       "      <td>37.609296</td>\n",
       "    </tr>\n",
       "    <tr>\n",
       "      <th>400</th>\n",
       "      <td>angola</td>\n",
       "      <td>2015</td>\n",
       "      <td>2015</td>\n",
       "      <td>-5.634583</td>\n",
       "      <td>12.197471</td>\n",
       "      <td>AGO.4</td>\n",
       "      <td>AGO.4.3</td>\n",
       "      <td>23</td>\n",
       "      <td>0</td>\n",
       "      <td>50.556994</td>\n",
       "    </tr>\n",
       "    <tr>\n",
       "      <th>599</th>\n",
       "      <td>angola</td>\n",
       "      <td>2015</td>\n",
       "      <td>2015</td>\n",
       "      <td>-10.671992</td>\n",
       "      <td>22.191444</td>\n",
       "      <td>AGO.15</td>\n",
       "      <td>AGO.15.5</td>\n",
       "      <td>9</td>\n",
       "      <td>1</td>\n",
       "      <td>5.111648</td>\n",
       "    </tr>\n",
       "    <tr>\n",
       "      <th>621</th>\n",
       "      <td>angola</td>\n",
       "      <td>2015</td>\n",
       "      <td>2015</td>\n",
       "      <td>-15.102504</td>\n",
       "      <td>12.148766</td>\n",
       "      <td>AGO.16</td>\n",
       "      <td>AGO.16.3</td>\n",
       "      <td>22</td>\n",
       "      <td>0</td>\n",
       "      <td>31.604586</td>\n",
       "    </tr>\n",
       "    <tr>\n",
       "      <th>426</th>\n",
       "      <td>angola</td>\n",
       "      <td>2015</td>\n",
       "      <td>2015</td>\n",
       "      <td>-9.291030</td>\n",
       "      <td>14.910762</td>\n",
       "      <td>AGO.6</td>\n",
       "      <td>AGO.6.6</td>\n",
       "      <td>17</td>\n",
       "      <td>0</td>\n",
       "      <td>33.691914</td>\n",
       "    </tr>\n",
       "    <tr>\n",
       "      <th>461</th>\n",
       "      <td>angola</td>\n",
       "      <td>2015</td>\n",
       "      <td>2015</td>\n",
       "      <td>-17.254237</td>\n",
       "      <td>15.359872</td>\n",
       "      <td>AGO.8</td>\n",
       "      <td>AGO.8.2</td>\n",
       "      <td>22</td>\n",
       "      <td>1</td>\n",
       "      <td>14.780055</td>\n",
       "    </tr>\n",
       "    <tr>\n",
       "      <th>469</th>\n",
       "      <td>angola</td>\n",
       "      <td>2015</td>\n",
       "      <td>2015</td>\n",
       "      <td>-12.748934</td>\n",
       "      <td>15.683734</td>\n",
       "      <td>AGO.9</td>\n",
       "      <td>AGO.9.5</td>\n",
       "      <td>13</td>\n",
       "      <td>0</td>\n",
       "      <td>50.489750</td>\n",
       "    </tr>\n",
       "    <tr>\n",
       "      <th>656</th>\n",
       "      <td>angola</td>\n",
       "      <td>2015</td>\n",
       "      <td>2015</td>\n",
       "      <td>-6.263827</td>\n",
       "      <td>14.245849</td>\n",
       "      <td>AGO.18</td>\n",
       "      <td>AGO.18.2</td>\n",
       "      <td>26</td>\n",
       "      <td>0</td>\n",
       "      <td>72.498381</td>\n",
       "    </tr>\n",
       "    <tr>\n",
       "      <th>401</th>\n",
       "      <td>angola</td>\n",
       "      <td>2015</td>\n",
       "      <td>2015</td>\n",
       "      <td>-5.599102</td>\n",
       "      <td>12.171812</td>\n",
       "      <td>AGO.4</td>\n",
       "      <td>AGO.4.3</td>\n",
       "      <td>24</td>\n",
       "      <td>0</td>\n",
       "      <td>70.907635</td>\n",
       "    </tr>\n",
       "  </tbody>\n",
       "</table>\n",
       "</div>"
      ],
      "text/plain": [
       "    country  survey_start_year  year        lat        lon   GID_1      GID_2  \\\n",
       "479  angola               2015  2015 -13.268225  16.286991   AGO.9    AGO.9.9   \n",
       "632  angola               2015  2015  -7.926358  15.041177  AGO.17  AGO.17.13   \n",
       "400  angola               2015  2015  -5.634583  12.197471   AGO.4    AGO.4.3   \n",
       "599  angola               2015  2015 -10.671992  22.191444  AGO.15   AGO.15.5   \n",
       "621  angola               2015  2015 -15.102504  12.148766  AGO.16   AGO.16.3   \n",
       "426  angola               2015  2015  -9.291030  14.910762   AGO.6    AGO.6.6   \n",
       "461  angola               2015  2015 -17.254237  15.359872   AGO.8    AGO.8.2   \n",
       "469  angola               2015  2015 -12.748934  15.683734   AGO.9    AGO.9.5   \n",
       "656  angola               2015  2015  -6.263827  14.245849  AGO.18   AGO.18.2   \n",
       "401  angola               2015  2015  -5.599102  12.171812   AGO.4    AGO.4.3   \n",
       "\n",
       "     households  rural        iwi  \n",
       "479          22      1   7.122878  \n",
       "632           8      0  37.609296  \n",
       "400          23      0  50.556994  \n",
       "599           9      1   5.111648  \n",
       "621          22      0  31.604586  \n",
       "426          17      0  33.691914  \n",
       "461          22      1  14.780055  \n",
       "469          13      0  50.489750  \n",
       "656          26      0  72.498381  \n",
       "401          24      0  70.907635  "
      ]
     },
     "execution_count": 14,
     "metadata": {},
     "output_type": "execute_result"
    }
   ],
   "source": [
    "country = 'angola'\n",
    "year = 2015\n",
    "test_df = df[(df['country'] == country) & (df['year'] == year)].sample(10, random_state=0)\n",
    "test_df"
   ]
  },
  {
   "cell_type": "markdown",
   "metadata": {},
   "source": [
    "To make sure that you have all the permissions, libraries, etc. before starting the big list of tasks, run this test case which exports the first 10 clusters for a given survey. It shouldn't take more than 10 minutes."
   ]
  },
  {
   "cell_type": "code",
   "execution_count": null,
   "metadata": {
    "pycharm": {
     "name": "#%%\n"
    }
   },
   "outputs": [],
   "source": [
    "def test_export(df, country, year):\n",
    "    test_df = df[(df['country'] == country) & (df['year'] == year)].sample(10, random_state=0)\n",
    "    test_tasks = export_images(test_df,\n",
    "                               country=country,\n",
    "                               year=year,\n",
    "                               export_folder=config['GCS']['EXPORT_FOLDER'],  # 'data/dhs_tfrecords_raw',\n",
    "                               export='gcs',\n",
    "                               bucket=config['GCS']['BUCKET'],\n",
    "                               ms_bands=['BLUE', 'GREEN', 'RED', 'NIR', 'SWIR1', 'SWIR2', 'TEMP1'],\n",
    "                               include_nl=True,\n",
    "                               start_year=1990,\n",
    "                               end_year=2020,\n",
    "                               span_length=3,\n",
    "                               chunk_size=5)\n",
    "    wait_on_tasks(test_tasks, poll_interval=60)\n",
    "\n",
    "test_export(df, surveys[0][0], surveys[0][1])"
   ]
  },
  {
   "cell_type": "markdown",
   "metadata": {},
   "source": [
    "Note that even if the \"wait_on_tasks\" method fails the tasks have still been started and are running in the GEE. If the task completes succesfully (seen either through wait_on_tasks or in the [GEE editor](https://code.earthengine.google.com/ )) you can continue to the next step."
   ]
  },
  {
   "cell_type": "markdown",
   "metadata": {},
   "source": [
    "## Export the images\n",
    "\n",
    "This section sets up and queues all the tasks for your survey data. It will take a little while to load, but once it's executed you're done. The exports are now carried out in GEE and you can monitor the exports in the [GEE editor](https://code.earthengine.google.com/). Note that some of these tasks will most likely fail with memory errors. When one of them fail the next couple of ones (maybe next five) are also fails more likely to do so. It happens seamingly at random and there's nothing we've been able to do about it. After everyone are done I will rerun the exports only on the survey points which are missing in the GCS bucket, so unless a lot of them fail (for Egypt 2014 it was about 10%) this is nothing you need to worry about for now."
   ]
  },
  {
   "cell_type": "markdown",
   "metadata": {},
   "source": [
    "### Start missing downloads\n",
    "\n",
    "Sometimes the connnection aborts before all tasks have been started. I've updated the script to first check which tasks have already been initiated before starting the rest."
   ]
  },
  {
   "cell_type": "code",
   "execution_count": 48,
   "metadata": {},
   "outputs": [],
   "source": [
    "latest_tasks = {}\n",
    "for survey in surveys:\n",
    "    latest_tasks[survey] = -1"
   ]
  },
  {
   "cell_type": "markdown",
   "metadata": {},
   "source": [
    "Get the latest task already downloaded into the GCS bucket for each survey:"
   ]
  },
  {
   "cell_type": "code",
   "execution_count": 49,
   "metadata": {},
   "outputs": [],
   "source": [
    "for survey in surveys:\n",
    "    files_path = f'gs://{config['GCS']['BUCKET']}/{config['GCS']['EXPORT_FOLDER']}/{survey[0]}_{survey[1]}'\n",
    "    files_in_bucket = !gsutil ls {files_path}*\n",
    "    if files_in_bucket[-1].startswith(files_path):\n",
    "        latest_file = files_in_bucket[-1]\n",
    "        latest_file_nr = int(latest_file[len(files_path)+1:len(files_path)+5])\n",
    "        latest_tasks[survey] = latest_file_nr"
   ]
  },
  {
   "cell_type": "code",
   "execution_count": 50,
   "metadata": {},
   "outputs": [
    {
     "name": "stdout",
     "output_type": "stream",
     "text": [
      "Latest tasks already in bucket:\n",
      " {('madagascar', 2020): 1304, ('ethiopia', 2020): 1005}\n"
     ]
    }
   ],
   "source": [
    "print('Latest tasks already in bucket:\\n', latest_tasks)"
   ]
  },
  {
   "cell_type": "markdown",
   "metadata": {},
   "source": [
    "Get the latest task started in GEE for each survey:"
   ]
  },
  {
   "cell_type": "code",
   "execution_count": 51,
   "metadata": {},
   "outputs": [],
   "source": [
    "# Get task list from GEE\n",
    "gee_tasks = !earthengine task list\n",
    "\n",
    "# Loop over these tasks. Save the latest in \"last_tasks\", if it's higher than what is already in the GCS bucket.\n",
    "for line in gee_tasks:\n",
    "    if 'Export.table' in line:\n",
    "        task = line.split()[2]\n",
    "        survey_string = task.split('_')[:2]\n",
    "        survey = (survey_string[0], int(survey_string[1]))\n",
    "        if survey not in surveys:\n",
    "            continue\n",
    "        task_nr = int(task.split('_')[2][:4])\n",
    "        if task_nr > latest_tasks[survey]:\n",
    "            latest_tasks[survey] = task_nr"
   ]
  },
  {
   "cell_type": "code",
   "execution_count": 52,
   "metadata": {},
   "outputs": [
    {
     "name": "stdout",
     "output_type": "stream",
     "text": [
      "Latest tasks already started in GEE:\n",
      " {('madagascar', 2020): 1304, ('ethiopia', 2020): 1005}\n"
     ]
    }
   ],
   "source": [
    "print('Latest tasks already started in GEE:\\n', latest_tasks)"
   ]
  },
  {
   "cell_type": "markdown",
   "metadata": {},
   "source": [
    "Start the remaining tasks. If the connection is aborted before all tasks have started, please rerun this section of the notebook (from the \"Export the images\")."
   ]
  },
  {
   "cell_type": "code",
   "execution_count": null,
   "metadata": {},
   "outputs": [],
   "source": [
    "chunk_size = 5\n",
    "all_tasks = dict()\n",
    "\n",
    "for survey in surveys:\n",
    "    last_started = latest_tasks[survey]\n",
    "    survey_df = df[(df['country'] == survey[0]) & (df['year'] == survey[1])]\n",
    "    expected_nr_of_tasks = int(math.ceil(len(survey_df) / chunk_size))\n",
    "    if last_started < expected_nr_of_tasks - 1:\n",
    "        # Some tasks have not been started. Starts them here:\n",
    "        country = survey[0]\n",
    "        year = survey[1]\n",
    "        already_in_bucket = list(range(last_started + 1))\n",
    "        survey_tasks = export_images(df,\n",
    "                                     country=country,\n",
    "                                     year=year,\n",
    "                                     export_folder=config['GCS']['EXPORT_FOLDER'],\n",
    "                                     export='gcs',\n",
    "                                     bucket=config['GCS']['BUCKET'],\n",
    "                                     ms_bands=['BLUE', 'GREEN', 'RED', 'NIR', 'SWIR1', 'SWIR2', 'TEMP1'],\n",
    "                                     include_nl=True,\n",
    "                                     start_year=1990,\n",
    "                                     end_year=2020,\n",
    "                                     span_length=3,\n",
    "                                     chunk_size=5,\n",
    "                                     already_in_bucket=already_in_bucket)\n",
    "        all_tasks.update(survey_tasks)"
   ]
  },
  {
   "cell_type": "markdown",
   "metadata": {},
   "source": [
    "If you prefer, you also monitor the tasks in the notebook with the \"wait_on_tasks\" method."
   ]
  },
  {
   "cell_type": "code",
   "execution_count": null,
   "metadata": {},
   "outputs": [],
   "source": [
    "wait_on_tasks(all_tasks, poll_interval=60)"
   ]
  }
 ],
 "metadata": {
  "kernelspec": {
   "display_name": "base",
   "language": "python",
   "name": "python3"
  },
  "language_info": {
   "codemirror_mode": {
    "name": "ipython",
    "version": 3
   },
   "file_extension": ".py",
   "mimetype": "text/x-python",
   "name": "python",
   "nbconvert_exporter": "python",
   "pygments_lexer": "ipython3",
   "version": "3.12.4"
  }
 },
 "nbformat": 4,
 "nbformat_minor": 1
}
